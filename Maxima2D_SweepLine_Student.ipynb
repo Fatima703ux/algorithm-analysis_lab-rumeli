{
  "cells": [
    {
      "cell_type": "markdown",
      "metadata": {},
      "source": [
        "# 2D Maxima with Plane Sweep \u2014 Student Notebook\n",
        "\n",
        "**Goal:** Implement the O(n log n) sweep-line algorithm for 2D maxima, compare against brute force, and analyze performance."
      ]
    },
    {
      "cell_type": "markdown",
      "metadata": {},
      "source": [
        "## Part A \u2014 Manual Warm-up\n",
        "Given $P=\\{(2,5),(4,1),(1,4),(3,3),(5,2),(6,6),(7,4),(5,5)\\}$, identify maximal points by inspection (do this on paper), then verify using code below."
      ]
    },
    {
      "cell_type": "code",
      "execution_count": null,
      "metadata": {},
      "outputs": [],
      "source": [
        "import random, time, math\n",
        "import numpy as np\n",
        "import matplotlib.pyplot as plt\n",
        "\n",
        "P_example = [(2,5),(4,1),(1,4),(3,3),(5,2),(6,6),(7,4),(5,5)]\n",
        "P_example"
      ]
    },
    {
      "cell_type": "markdown",
      "metadata": {},
      "source": [
        "## Part B \u2014 Sweep-line Implementation"
      ]
    },
    {
      "cell_type": "code",
      "execution_count": null,
      "metadata": {},
      "outputs": [],
      "source": [
        "def maxima_sweep(points):\n",
        "    \"\"\"Return list of maximal points using plane sweep (x-desc, track max y).\"\"\"\n",
        "    pts = sorted(points, key=lambda p: (-p[0], -p[1]))  # sort by x desc, y desc as tie-breaker\n",
        "    maxima = []\n",
        "    maxY = float('-inf')\n",
        "    for x, y in pts:\n",
        "        if y >= maxY:\n",
        "            maxima.append((x, y))\n",
        "            maxY = y\n",
        "    return maxima\n",
        "\n",
        "# Quick test on the example\n",
        "maxima_sweep(P_example)"
      ]
    },
    {
      "cell_type": "markdown",
      "metadata": {},
      "source": [
        "## Part C \u2014 Brute-force Verifier"
      ]
    },
    {
      "cell_type": "code",
      "execution_count": null,
      "metadata": {},
      "outputs": [],
      "source": [
        "def dominates(a, b):\n",
        "    return (a[0] >= b[0]) and (a[1] >= b[1]) and (a != b)\n",
        "\n",
        "def maxima_bruteforce(points):\n",
        "    res = []\n",
        "    for p in points:\n",
        "        if not any(dominates(q, p) for q in points):\n",
        "            res.append(p)\n",
        "    return res\n",
        "\n",
        "maxima_bruteforce(P_example)"
      ]
    },
    {
      "cell_type": "markdown",
      "metadata": {},
      "source": [
        "## Part D \u2014 Visualization (Optional)"
      ]
    },
    {
      "cell_type": "code",
      "execution_count": null,
      "metadata": {},
      "outputs": [],
      "source": [
        "def plot_points_and_maxima(points, maxima):\n",
        "    xs = [p[0] for p in points]\n",
        "    ys = [p[1] for p in points]\n",
        "    plt.figure()\n",
        "    plt.scatter(xs, ys)\n",
        "    mx = [p[0] for p in maxima]\n",
        "    my = [p[1] for p in maxima]\n",
        "    plt.scatter(mx, my, marker='x')\n",
        "    for p in points:\n",
        "        plt.text(p[0]+0.05, p[1]+0.05, str(p))\n",
        "    plt.xlabel('x'); plt.ylabel('y'); plt.title('Points and Maxima')\n",
        "    plt.show()\n",
        "\n",
        "plot_points_and_maxima(P_example, maxima_sweep(P_example))"
      ]
    },
    {
      "cell_type": "markdown",
      "metadata": {},
      "source": [
        "## Part E \u2014 Benchmarking\n",
        "Generate random datasets for $n \\in \\{10^3, 10^4, 10^5\\}$ and compare runtime of sweep vs brute force. (You may reduce $n$ if your runtime budget is limited.)"
      ]
    },
    {
      "cell_type": "code",
      "execution_count": null,
      "metadata": {},
      "outputs": [],
      "source": [
        "def rand_points(n, low=0, high=1_000_000, seed=0):\n",
        "    rnd = random.Random(seed)\n",
        "    return [(rnd.randint(low, high), rnd.randint(low, high)) for _ in range(n)]\n",
        "\n",
        "def time_fn(fn, *args, **kwargs):\n",
        "    t0 = time.perf_counter()\n",
        "    out = fn(*args, **kwargs)\n",
        "    t1 = time.perf_counter()\n",
        "    return out, (t1 - t0)\n",
        "\n",
        "sizes = [10**3, 10**4]  # adjust to [10**3, 10**4, 10**5] if resources allow\n",
        "results = []\n",
        "for n in sizes:\n",
        "    pts = rand_points(n, seed=42)\n",
        "    _, t_sweep = time_fn(maxima_sweep, pts)\n",
        "    # brute force may be slow for n>=10**4; use with care\n",
        "    if n <= 5000:\n",
        "        _, t_brute = time_fn(maxima_bruteforce, pts)\n",
        "    else:\n",
        "        t_brute = float('nan')\n",
        "    results.append((n, t_sweep, t_brute))\n",
        "results"
      ]
    },
    {
      "cell_type": "code",
      "execution_count": null,
      "metadata": {},
      "outputs": [],
      "source": [
        "# Plot runtimes (log-scale on x-axis)\n",
        "ns = [r[0] for r in results]\n",
        "ts_sweep = [r[1] for r in results]\n",
        "ts_brute = [r[2] for r in results]\n",
        "\n",
        "plt.figure()\n",
        "plt.plot(ns, ts_sweep, marker='o', label='Sweep O(n log n)')\n",
        "plt.plot(ns, ts_brute, marker='o', label='Brute-force O(n^2)')\n",
        "plt.xscale('log')\n",
        "plt.xlabel('n (log scale)')\n",
        "plt.ylabel('seconds')\n",
        "plt.title('Runtime Comparison')\n",
        "plt.legend()\n",
        "plt.show()"
      ]
    },
    {
      "cell_type": "markdown",
      "metadata": {},
      "source": [
        "## Part F \u2014 Discussion\n",
        "- Why does sorting by descending $x$ make it safe to keep only non-decreasing $y$?\\n",
        "- What happens if dominance is strict in both coordinates?\\n",
        "- How would you extend (or why is it hard to extend) to 3D?"
      ]
    }
  ],
  "metadata": {
    "colab": {
      "provenance": []
    },
    "kernelspec": {
      "display_name": "Python 3",
      "language": "python",
      "name": "python3"
    },
    "language_info": {
      "name": "python"
    }
  },
  "nbformat": 4,
  "nbformat_minor": 5
}